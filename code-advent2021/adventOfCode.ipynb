{
 "cells": [
  {
   "cell_type": "markdown",
   "metadata": {},
   "source": [
    "# Advent Of Code"
   ]
  },
  {
   "cell_type": "markdown",
   "metadata": {},
   "source": [
    "## Challenge 1"
   ]
  },
  {
   "cell_type": "markdown",
   "metadata": {},
   "source": [
    "### 1.1"
   ]
  },
  {
   "cell_type": "code",
   "execution_count": 2,
   "metadata": {
    "dotnet_interactive": {
     "language": "javascript"
    }
   },
   "outputs": [
    {
     "name": "stdout",
     "output_type": "stream",
     "text": [
      "1687\n"
     ]
    }
   ],
   "source": [
    "numbers = []\n",
    "\n",
    "with open(\"advent01.txt\", \"r\") as a_file:\n",
    "  for line in a_file:\n",
    "    stripped_line = line.strip()\n",
    "    numbers.append(stripped_line)\n",
    "\n",
    "# print(numbers)\n",
    "\n",
    "hilfe = numbers[0]\n",
    "count = 0\n",
    "# print(hilfe)\n",
    "\n",
    "for i in numbers:\n",
    "    if i > hilfe:\n",
    "        count += 1\n",
    "        # print(count)\n",
    "    hilfe = i\n",
    "\n",
    "print(count)"
   ]
  },
  {
   "cell_type": "markdown",
   "metadata": {},
   "source": [
    "### 1.2"
   ]
  },
  {
   "cell_type": "code",
   "execution_count": 3,
   "metadata": {
    "dotnet_interactive": {
     "language": "javascript"
    }
   },
   "outputs": [
    {
     "name": "stdout",
     "output_type": "stream",
     "text": [
      "1729\n"
     ]
    }
   ],
   "source": [
    "numbers = []\n",
    "\n",
    "with open(\"advent01.txt\", \"r\") as a_file:\n",
    "  for line in a_file:\n",
    "    stripped_line = line.strip()\n",
    "    numbers.append(stripped_line)\n",
    "\n",
    "# print(numbers)\n",
    "\n",
    "hilfe = 0\n",
    "sum = 0\n",
    "count = 0\n",
    "# print(hilfe)\n",
    "\n",
    "for index, num in enumerate(numbers):\n",
    "    i = 0\n",
    "    if index < 1998:\n",
    "        while  i < 3:\n",
    "            sum += int(numbers[(index + i)])\n",
    "            i += 1\n",
    "    # print(num)\n",
    "    if sum > hilfe:\n",
    "        count += 1\n",
    "        # print(count)\n",
    "    hilfe = sum\n",
    "    sum = 0\n",
    "\n",
    "print(count)"
   ]
  },
  {
   "cell_type": "markdown",
   "metadata": {},
   "source": [
    "## Challenge 2"
   ]
  },
  {
   "cell_type": "markdown",
   "metadata": {},
   "source": [
    "### 2.1"
   ]
  },
  {
   "cell_type": "code",
   "execution_count": 4,
   "metadata": {
    "dotnet_interactive": {
     "language": "javascript"
    }
   },
   "outputs": [
    {
     "name": "stdout",
     "output_type": "stream",
     "text": [
      "2117664\n"
     ]
    }
   ],
   "source": [
    "import re\n",
    "numbers = []\n",
    "\n",
    "with open(\"advent02.txt\", \"r\") as a_file:\n",
    "  for line in a_file:\n",
    "    stripped_line = line.strip()\n",
    "    numbers.append(stripped_line)\n",
    "\n",
    "depth = 0\n",
    "horizontal = 0\n",
    "\n",
    "def split(string):\n",
    "    m = re.search(r'\\d+$', string)\n",
    "    return int(m.group()) if m else None\n",
    "\n",
    "for i in numbers:\n",
    "    if i[0] == \"u\":\n",
    "        depth -= split(i)\n",
    "\n",
    "    if i[0] == \"d\":\n",
    "        depth += split(i)\n",
    "\n",
    "    if i[0] == \"f\":\n",
    "        horizontal += split(i)\n",
    "\n",
    "print(depth * horizontal)"
   ]
  },
  {
   "cell_type": "markdown",
   "metadata": {},
   "source": [
    "### 2.2"
   ]
  },
  {
   "cell_type": "code",
   "execution_count": 5,
   "metadata": {
    "dotnet_interactive": {
     "language": "javascript"
    }
   },
   "outputs": [
    {
     "name": "stdout",
     "output_type": "stream",
     "text": [
      "2073416724\n"
     ]
    }
   ],
   "source": [
    "import re\n",
    "numbers = []\n",
    "\n",
    "with open(\"advent02.txt\", \"r\") as a_file:\n",
    "  for line in a_file:\n",
    "    stripped_line = line.strip()\n",
    "    numbers.append(stripped_line)\n",
    "\n",
    "aim = 0\n",
    "depth = 0\n",
    "horizontal = 0\n",
    "\n",
    "def split(string):\n",
    "    m = re.search(r'\\d+$', string)\n",
    "    return int(m.group()) if m else None\n",
    "\n",
    "for i in numbers:\n",
    "    if i[0] == \"u\":\n",
    "        aim -= split(i)\n",
    "\n",
    "    if i[0] == \"d\":\n",
    "        aim += split(i)\n",
    "\n",
    "    if i[0] == \"f\":\n",
    "        horizontal += split(i)\n",
    "        depth += split(i) * aim\n",
    "\n",
    "print(depth * horizontal)"
   ]
  },
  {
   "cell_type": "markdown",
   "metadata": {},
   "source": [
    "## Challenge 3"
   ]
  },
  {
   "cell_type": "markdown",
   "metadata": {},
   "source": [
    "### 3.1"
   ]
  },
  {
   "cell_type": "code",
   "execution_count": 6,
   "metadata": {
    "dotnet_interactive": {
     "language": "javascript"
    }
   },
   "outputs": [
    {
     "name": "stdout",
     "output_type": "stream",
     "text": [
      "841526\n"
     ]
    }
   ],
   "source": [
    "numbers = []\n",
    "\n",
    "with open(\"advent03.txt\", \"r\") as a_file:\n",
    "  for line in a_file:\n",
    "    stripped_line = line.strip()\n",
    "    numbers.append(stripped_line)\n",
    "\n",
    "\n",
    "array = [[0, 0],[0, 0],[0, 0],[0, 0],[0, 0],[0, 0],[0, 0],[0, 0],[0, 0],[0, 0],[0, 0],[0, 0]]\n",
    "\n",
    "gamma = \"\"\n",
    "epsilon = \"\"\n",
    "\n",
    "for string in numbers:\n",
    "    i = 0\n",
    "    while i < 12:\n",
    "        if string[i] == \"0\":\n",
    "            array[i][0] += 1\n",
    "        if string[i] == \"1\":\n",
    "            array[i][1] += 1\n",
    "        i += 1\n",
    "\n",
    "i = 0\n",
    "while i < 12:\n",
    "    if array[i][0] > array[i][1]:\n",
    "        gamma += \"0\"\n",
    "        epsilon += \"1\"\n",
    "    else:\n",
    "        gamma += \"1\"\n",
    "        epsilon += \"0\"\n",
    "    i += 1\n",
    "\n",
    "\n",
    "print(int(gamma,2) * int(epsilon,2))"
   ]
  },
  {
   "cell_type": "markdown",
   "metadata": {},
   "source": [
    "### 3.2"
   ]
  },
  {
   "cell_type": "code",
   "execution_count": 7,
   "metadata": {
    "dotnet_interactive": {
     "language": "javascript"
    }
   },
   "outputs": [
    {
     "name": "stdout",
     "output_type": "stream",
     "text": [
      "4790390\n"
     ]
    }
   ],
   "source": [
    "numbers = []\n",
    "\n",
    "with open(\"advent03.txt\", \"r\") as a_file:\n",
    "  for line in a_file:\n",
    "    stripped_line = line.strip()\n",
    "    numbers.append(stripped_line)\n",
    "\n",
    "oxygen = \"\"\n",
    "scrubber = \"\"\n",
    "one = 0\n",
    "zero = 0\n",
    "\n",
    "def check(string, result):\n",
    "    help = len(result)\n",
    "    index = 0\n",
    "    helper = True\n",
    "    while index < help:\n",
    "        if result[index] == string[index]:\n",
    "            helper = True\n",
    "        else:\n",
    "            helper = False\n",
    "        if helper == False:\n",
    "            return False\n",
    "        index += 1\n",
    "\n",
    "    if helper == True:\n",
    "        return True\n",
    "\n",
    "i = 0\n",
    "while i < 12:\n",
    "    for string in numbers:\n",
    "        if i > 0 and check(string, oxygen):\n",
    "            if string[i] == \"0\":\n",
    "                zero += 1\n",
    "            if string[i] == \"1\":\n",
    "                one += 1\n",
    "        if i == 0:\n",
    "            if string[i] == \"0\":\n",
    "                zero += 1\n",
    "            if string[i] == \"1\":\n",
    "                one += 1\n",
    "    if one >= zero:\n",
    "        oxygen += \"1\"\n",
    "    else:\n",
    "        oxygen += \"0\"\n",
    "    one = 0\n",
    "    zero = 0\n",
    "    i += 1\n",
    "\n",
    "one = 0\n",
    "zero = 0\n",
    "i = 0\n",
    "while i < 12:\n",
    "    for string in numbers:\n",
    "        if i > 0 and check(string, scrubber):\n",
    "            if string[i] == \"0\":\n",
    "                zero += 1\n",
    "            if string[i] == \"1\":\n",
    "                one += 1\n",
    "        if i == 0:\n",
    "            if string[i] == \"0\":\n",
    "                zero += 1\n",
    "            if string[i] == \"1\":\n",
    "                one += 1\n",
    "    if one == 0 and zero == 0:\n",
    "        scrubber += \"0\"\n",
    "    elif one == 0:\n",
    "        scrubber += \"0\"\n",
    "    elif zero == 0:\n",
    "        scrubber += \"1\"\n",
    "    else:\n",
    "        if one < zero:\n",
    "            scrubber += \"1\"\n",
    "        else:\n",
    "            scrubber += \"0\"\n",
    "\n",
    "    one = 0\n",
    "    zero = 0\n",
    "    i += 1\n",
    "\n",
    "print(int(oxygen, 2)*int(scrubber, 2))"
   ]
  }
 ],
 "metadata": {
  "interpreter": {
   "hash": "b0fa6594d8f4cbf19f97940f81e996739fb7646882a419484c72d19e05852a7e"
  },
  "kernelspec": {
   "display_name": ".NET (C#)",
   "language": "python",
   "name": "python3"
  },
  "language_info": {
   "codemirror_mode": {
    "name": "ipython",
    "version": 3
   },
   "file_extension": ".py",
   "mimetype": "text/x-python",
   "name": "python",
   "nbconvert_exporter": "python",
   "pygments_lexer": "ipython3",
   "version": "3.9.9"
  },
  "orig_nbformat": 4
 },
 "nbformat": 4,
 "nbformat_minor": 2
}
